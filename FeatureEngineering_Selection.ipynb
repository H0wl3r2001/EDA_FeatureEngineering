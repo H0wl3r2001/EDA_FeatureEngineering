{
 "cells": [
  {
   "cell_type": "markdown",
   "metadata": {},
   "source": [
    "# Feature Engineering and Selection\n",
    "\n",
    "Feature engineering is the process of selecting, manipulating and transforming raw data into features that can be used in supervised learning. It leverages the existing data to create new variables that do not exist in the original dataset. In regards to an EDA, the overall goal is to find patterns in data. This process comes after one goes thorugh the process of Understanding the data, handles the missing data and preprocesses it (topics covered in the notebook [Data Cleaning and Preprocess](DataCleaning_Preprocessing.ipynb)).\n",
    "\n",
    "In this notebook, some techniques will be showcased, namely: Feature Creation, Multicollinearity Detection, Feature Selection techniques and Dimensionality Reduction, which was already skimmed in previous repositories.\n",
    "\n",
    "## Index\n",
    "\n",
    "\n",
    "\n",
    "**Libraries and Datasets to use:**"
   ]
  },
  {
   "cell_type": "code",
   "execution_count": 1,
   "metadata": {},
   "outputs": [],
   "source": [
    "import numpy as np\n",
    "import pandas as pd\n",
    "import matplotlib.pyplot as plt\n",
    "import seaborn as sns\n",
    "from sklearn.preprocessing import PolynomialFeatures, StandardScaler\n",
    "from sklearn.feature_selection import VarianceThreshold, SelectKBest, f_regression\n",
    "from sklearn.decomposition import PCA\n",
    "from statsmodels.stats.outliers_influence import variance_inflation_factor\n",
    "\n",
    "df_titanic = sns.load_dataset(\"titanic\")  # Categorical-heavy dataset\n",
    "df_diamonds = sns.load_dataset(\"diamonds\")  # Numerical-heavy dataset\n"
   ]
  },
  {
   "cell_type": "markdown",
   "metadata": {},
   "source": [
    "## 1. Feature Creation\n",
    "\n",
    "Feature creation involves transforming raw data into features that better represent the underlying problem to predictive models, resulting in improved model accuracy on unseen data. We can divide this process in some groups:\n",
    "\n",
    "- **Interaction feature creation:** We can do some polynomial transformations on existing features, creating new ones (`Polynomial Features`), or we can combine features to capture interactions between them (`Interaction Terms`);\n",
    "- **Binning and Discretization:** Basing on continuous variables, we can, respectively, convert them into discrete bins (`Binning`) or transform them into categorical variables (`Discretization`);\n",
    "- **Time-Based features:** When dealing with these kinds of features, we can extract time components such as day, month, year, etc. or also calculate elapsed times, IE time deltas ($\\Delta  t$);\n",
    "- **Text Data:** From text data, we can: \n",
    "  - split it into individual words or tokens (`Tokenization`); \n",
    "  - transform it into numerical vectors based on Term Frequency-Inverse Document Frequency (`TF-IDF`);\n",
    "  - represent words in a continuous vector space, using pre-trained models like Word2Vec or GloVe (`Word Embeddings`)\n",
    "\n",
    "We can see below an example of the Ineraction feature creation technique to generate new features on the **diamonds** example dataset ($a^2, a*b$ and $b^2$):"
   ]
  },
  {
   "cell_type": "code",
   "execution_count": 9,
   "metadata": {},
   "outputs": [
    {
     "name": "stdout",
     "output_type": "stream",
     "text": [
      "Original Features:    carat  depth\n",
      "0   0.23   61.5\n",
      "1   0.21   59.8\n",
      "2   0.23   56.9\n",
      "3   0.29   62.4\n",
      "4   0.31   63.3\n",
      "Polynomial Features: [[5.29000e-02 1.41450e+01 3.78225e+03]\n",
      " [4.41000e-02 1.25580e+01 3.57604e+03]\n",
      " [5.29000e-02 1.30870e+01 3.23761e+03]\n",
      " [8.41000e-02 1.80960e+01 3.89376e+03]\n",
      " [9.61000e-02 1.96230e+01 4.00689e+03]]\n"
     ]
    }
   ],
   "source": [
    "poly = PolynomialFeatures(degree=2, interaction_only=False, include_bias=False)\n",
    "diamond_features = df_diamonds[['carat', 'depth']]\n",
    "diamond_poly = poly.fit_transform(diamond_features)\n",
    "print(\"Original Features:\", diamond_features.head())\n",
    "print(\"Polynomial Features:\", diamond_poly[:5, 2:])"
   ]
  },
  {
   "cell_type": "markdown",
   "metadata": {},
   "source": [
    "## 5. Extra Resources\n",
    "\n",
    "For further reading:\n",
    "- [BuiltIn article](https://builtin.com/articles/feature-engineering)\n",
    "- [Feature Engineering and Selection Book](http://www.feat.engineering/)\n",
    "- [Scikit-learn: Feature Engineering](https://scikit-learn.org/stable/modules/feature_selection.html)\n",
    "- [Pandas Documentation](https://pandas.pydata.org/docs/)\n",
    "- [Seaborn Visualization Guide](https://seaborn.pydata.org/)"
   ]
  }
 ],
 "metadata": {
  "kernelspec": {
   "display_name": "eda_env",
   "language": "python",
   "name": "python3"
  },
  "language_info": {
   "codemirror_mode": {
    "name": "ipython",
    "version": 3
   },
   "file_extension": ".py",
   "mimetype": "text/x-python",
   "name": "python",
   "nbconvert_exporter": "python",
   "pygments_lexer": "ipython3",
   "version": "3.11.11"
  }
 },
 "nbformat": 4,
 "nbformat_minor": 2
}
