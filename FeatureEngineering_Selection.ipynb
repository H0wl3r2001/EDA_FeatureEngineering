{
 "cells": [
  {
   "cell_type": "markdown",
   "metadata": {},
   "source": [
    "# Feature Engineering and Selection\n",
    "\n",
    "Feature engineering is the process of selecting, manipulating and transforming raw data into features that can be used in supervised learning. It leverages the existing data to create new variables that do not exist in the original dataset. In regards to an EDA, the overall goal is to find patterns in data. This process comes after one goes thorugh the process of Understanding the data, handles the missing data and preprocesses it (topics covered in the notebook [Data Cleaning and Preprocess](DataCleaning_Preprocessing.ipynb)).\n",
    "\n",
    "In this notebook, some techniques will be showcased, namely: Feature Creation, Multicollinearity Detection, Feature Selection techniques and Dimensionality Reduction, which was already skimmed in previous repositories.\n",
    "\n",
    "## Index\n",
    "\n",
    "\n",
    "\n",
    "**Libraries and Datasets to use:**"
   ]
  },
  {
   "cell_type": "code",
   "execution_count": 1,
   "metadata": {},
   "outputs": [],
   "source": [
    "import numpy as np\n",
    "import pandas as pd\n",
    "import matplotlib.pyplot as plt\n",
    "import seaborn as sns\n",
    "from sklearn.preprocessing import PolynomialFeatures, StandardScaler\n",
    "from sklearn.feature_selection import VarianceThreshold, SelectKBest, f_regression\n",
    "from sklearn.decomposition import PCA\n",
    "from statsmodels.stats.outliers_influence import variance_inflation_factor\n",
    "\n",
    "df_titanic = sns.load_dataset(\"titanic\")  # Categorical-heavy dataset\n",
    "df_diamonds = sns.load_dataset(\"diamonds\")  # Numerical-heavy dataset\n"
   ]
  },
  {
   "cell_type": "markdown",
   "metadata": {},
   "source": [
    "## 1. Feature Creation\n"
   ]
  },
  {
   "cell_type": "markdown",
   "metadata": {},
   "source": [
    "## 5. Extra Resources\n",
    "\n",
    "For further reading:\n",
    "- [BuiltIn article](https://builtin.com/articles/feature-engineering)\n",
    "- [Feature Engineering and Selection Book](http://www.feat.engineering/)\n",
    "- [Scikit-learn: Feature Engineering](https://scikit-learn.org/stable/modules/feature_selection.html)\n",
    "- [Pandas Documentation](https://pandas.pydata.org/docs/)\n",
    "- [Seaborn Visualization Guide](https://seaborn.pydata.org/)"
   ]
  }
 ],
 "metadata": {
  "kernelspec": {
   "display_name": "eda_env",
   "language": "python",
   "name": "python3"
  },
  "language_info": {
   "codemirror_mode": {
    "name": "ipython",
    "version": 3
   },
   "file_extension": ".py",
   "mimetype": "text/x-python",
   "name": "python",
   "nbconvert_exporter": "python",
   "pygments_lexer": "ipython3",
   "version": "3.11.11"
  }
 },
 "nbformat": 4,
 "nbformat_minor": 2
}
