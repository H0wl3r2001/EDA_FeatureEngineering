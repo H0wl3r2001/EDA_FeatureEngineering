{
 "cells": [
  {
   "cell_type": "markdown",
   "metadata": {},
   "source": [
    "# EDA Data Insights\n",
    "\n",
    "As shown in the overview notebook, the first step for every EDA, after making the data available, is to find a proper way to plot said data, and to run commands so as to show some initial insights into the data we are working with.\n",
    "\n",
    "This notebook will run this $1^{st}$ step in the most common types of Data we can come across in a Data Science project. As such, we will focus on:\n",
    "\n",
    "- Numerical Data (descriptive statistics), which was already shown on the [Overview](EDA_overview.ipynb) notebook;\n",
    "- Categorical Data (cross tabulations);\n",
    "- Time Series (rolling statistics);\n",
    "- Text Data (word frequencies);\n",
    "- Image Data (Pixel Value Statistics)\n",
    "  \n",
    "## Index\n",
    "\n",
    "\n",
    "\n",
    "**Libraries used:**"
   ]
  },
  {
   "cell_type": "code",
   "execution_count": 2,
   "metadata": {},
   "outputs": [],
   "source": [
    "import numpy as np\n",
    "import pandas as pd\n",
    "import matplotlib.pyplot as plt\n",
    "import seaborn as sns\n",
    "import missingno as msno\n",
    "import plotly.express as px\n",
    "from collections import Counter\n",
    "from nltk.tokenize import word_tokenize\n",
    "import nltk\n",
    "import cv2\n",
    "from skimage import data"
   ]
  },
  {
   "cell_type": "markdown",
   "metadata": {},
   "source": []
  }
 ],
 "metadata": {
  "kernelspec": {
   "display_name": "eda_env",
   "language": "python",
   "name": "python3"
  },
  "language_info": {
   "codemirror_mode": {
    "name": "ipython",
    "version": 3
   },
   "file_extension": ".py",
   "mimetype": "text/x-python",
   "name": "python",
   "nbconvert_exporter": "python",
   "pygments_lexer": "ipython3",
   "version": "3.11.11"
  }
 },
 "nbformat": 4,
 "nbformat_minor": 2
}
