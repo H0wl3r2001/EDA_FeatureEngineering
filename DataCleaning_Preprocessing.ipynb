{
 "cells": [
  {
   "cell_type": "markdown",
   "metadata": {},
   "source": [
    "# Data Cleaning and Preprocessing\n",
    "\n",
    "Data cleaning and preprocessing are essential steps before applying machine learning models.\n",
    "This process ensures that data is structured, error-free, and transformed into a format\n",
    "suitable for analysis.\n",
    "\n",
    "This notebook will cover the basis and simple techniques of:\n",
    "- Handling missing values\n",
    "- Detecting and treating outliers\n",
    "- Encoding categorical variables\n",
    "- Scaling and normalising numerical features\n",
    "- Feature transformations\n",
    "\n",
    "We will use datasets previously explored in the EDA notebooks to maintain consistency.\n",
    "\n",
    "## Index\n",
    "\n",
    "1. [Missing Values](#1-missing-values)\n",
    "2. [Outlier detection](#2-outlier-detection)\n",
    "3. [Encoding Categorical Variables](#3-encoding-categorical-values)\n",
    "4. [Scale and Normalisation](#4-scaling-and-normalizing-numerical-values)\n",
    "5. [Feature Transformations](#5-feature-transformations)\n",
    "6. [Extra Resources](#6-extra-resources)\n",
    "\n",
    "**Libraries used:**"
   ]
  },
  {
   "cell_type": "code",
   "execution_count": 10,
   "metadata": {},
   "outputs": [
    {
     "data": {
      "text/html": [
       "<div>\n",
       "<style scoped>\n",
       "    .dataframe tbody tr th:only-of-type {\n",
       "        vertical-align: middle;\n",
       "    }\n",
       "\n",
       "    .dataframe tbody tr th {\n",
       "        vertical-align: top;\n",
       "    }\n",
       "\n",
       "    .dataframe thead th {\n",
       "        text-align: right;\n",
       "    }\n",
       "</style>\n",
       "<table border=\"1\" class=\"dataframe\">\n",
       "  <thead>\n",
       "    <tr style=\"text-align: right;\">\n",
       "      <th></th>\n",
       "      <th>survived</th>\n",
       "      <th>pclass</th>\n",
       "      <th>sex</th>\n",
       "      <th>age</th>\n",
       "      <th>sibsp</th>\n",
       "      <th>parch</th>\n",
       "      <th>fare</th>\n",
       "      <th>embarked</th>\n",
       "      <th>class</th>\n",
       "      <th>who</th>\n",
       "      <th>adult_male</th>\n",
       "      <th>deck</th>\n",
       "      <th>embark_town</th>\n",
       "      <th>alive</th>\n",
       "      <th>alone</th>\n",
       "    </tr>\n",
       "  </thead>\n",
       "  <tbody>\n",
       "    <tr>\n",
       "      <th>0</th>\n",
       "      <td>0</td>\n",
       "      <td>3</td>\n",
       "      <td>male</td>\n",
       "      <td>22.0</td>\n",
       "      <td>1</td>\n",
       "      <td>0</td>\n",
       "      <td>7.2500</td>\n",
       "      <td>S</td>\n",
       "      <td>Third</td>\n",
       "      <td>man</td>\n",
       "      <td>True</td>\n",
       "      <td>NaN</td>\n",
       "      <td>Southampton</td>\n",
       "      <td>no</td>\n",
       "      <td>False</td>\n",
       "    </tr>\n",
       "    <tr>\n",
       "      <th>1</th>\n",
       "      <td>1</td>\n",
       "      <td>1</td>\n",
       "      <td>female</td>\n",
       "      <td>38.0</td>\n",
       "      <td>1</td>\n",
       "      <td>0</td>\n",
       "      <td>71.2833</td>\n",
       "      <td>C</td>\n",
       "      <td>First</td>\n",
       "      <td>woman</td>\n",
       "      <td>False</td>\n",
       "      <td>C</td>\n",
       "      <td>Cherbourg</td>\n",
       "      <td>yes</td>\n",
       "      <td>False</td>\n",
       "    </tr>\n",
       "    <tr>\n",
       "      <th>2</th>\n",
       "      <td>1</td>\n",
       "      <td>3</td>\n",
       "      <td>female</td>\n",
       "      <td>26.0</td>\n",
       "      <td>0</td>\n",
       "      <td>0</td>\n",
       "      <td>7.9250</td>\n",
       "      <td>S</td>\n",
       "      <td>Third</td>\n",
       "      <td>woman</td>\n",
       "      <td>False</td>\n",
       "      <td>NaN</td>\n",
       "      <td>Southampton</td>\n",
       "      <td>yes</td>\n",
       "      <td>True</td>\n",
       "    </tr>\n",
       "    <tr>\n",
       "      <th>3</th>\n",
       "      <td>1</td>\n",
       "      <td>1</td>\n",
       "      <td>female</td>\n",
       "      <td>35.0</td>\n",
       "      <td>1</td>\n",
       "      <td>0</td>\n",
       "      <td>53.1000</td>\n",
       "      <td>S</td>\n",
       "      <td>First</td>\n",
       "      <td>woman</td>\n",
       "      <td>False</td>\n",
       "      <td>C</td>\n",
       "      <td>Southampton</td>\n",
       "      <td>yes</td>\n",
       "      <td>False</td>\n",
       "    </tr>\n",
       "    <tr>\n",
       "      <th>4</th>\n",
       "      <td>0</td>\n",
       "      <td>3</td>\n",
       "      <td>male</td>\n",
       "      <td>35.0</td>\n",
       "      <td>0</td>\n",
       "      <td>0</td>\n",
       "      <td>8.0500</td>\n",
       "      <td>S</td>\n",
       "      <td>Third</td>\n",
       "      <td>man</td>\n",
       "      <td>True</td>\n",
       "      <td>NaN</td>\n",
       "      <td>Southampton</td>\n",
       "      <td>no</td>\n",
       "      <td>True</td>\n",
       "    </tr>\n",
       "  </tbody>\n",
       "</table>\n",
       "</div>"
      ],
      "text/plain": [
       "   survived  pclass     sex   age  sibsp  parch     fare embarked  class  \\\n",
       "0         0       3    male  22.0      1      0   7.2500        S  Third   \n",
       "1         1       1  female  38.0      1      0  71.2833        C  First   \n",
       "2         1       3  female  26.0      0      0   7.9250        S  Third   \n",
       "3         1       1  female  35.0      1      0  53.1000        S  First   \n",
       "4         0       3    male  35.0      0      0   8.0500        S  Third   \n",
       "\n",
       "     who  adult_male deck  embark_town alive  alone  \n",
       "0    man        True  NaN  Southampton    no  False  \n",
       "1  woman       False    C    Cherbourg   yes  False  \n",
       "2  woman       False  NaN  Southampton   yes   True  \n",
       "3  woman       False    C  Southampton   yes  False  \n",
       "4    man        True  NaN  Southampton    no   True  "
      ]
     },
     "execution_count": 10,
     "metadata": {},
     "output_type": "execute_result"
    }
   ],
   "source": [
    "import numpy as np\n",
    "import pandas as pd\n",
    "import matplotlib.pyplot as plt\n",
    "import seaborn as sns\n",
    "import missingno as msno\n",
    "from sklearn.preprocessing import StandardScaler, MinMaxScaler, RobustScaler, LabelEncoder, OneHotEncoder\n",
    "\n",
    "# Load Datasets from Previous Notebooks\n",
    "df_titanic = sns.load_dataset(\"titanic\")  # Categorical-heavy dataset\n",
    "df_diamonds = sns.load_dataset(\"diamonds\")  # Numerical-heavy dataset\n",
    "\n",
    "df_titanic.head()"
   ]
  },
  {
   "cell_type": "markdown",
   "metadata": {},
   "source": [
    "## 1. Missing values\n",
    "\n",
    "Missing data can introduce bias and reduce model accuracy. They may appear as `NaN`, `None`, blank cells in spreadsheets, `?` or some placeholder values like `-1` or `999`, for example. Understanding the nature of missing data is crucial for choosing the right handling strategy. It can be defined as 3 different types:\n",
    "    \n",
    "1. **Missing Completely at Random (MCAR):** The missingness is unrelated to any other variable or the missing value itself. A sensor randomly failing to record data is an example;\n",
    "2. **Missing at Random (MAR):** The missingness is related to other observed variables but not the missing value itself. For example, a survey where younger respondents are less likely to disclose their income;\n",
    "3. **Missing Not at Random (MNAR):** The missingness is related to the missing value itself. For example, people with higher incomes are less likely to disclose their income in a survey.\n",
    "\n",
    "After realizing that there is missing data, there are some different strategies on how to handle it:\n",
    "    \n",
    "1. **Removing Missing Values:** Either by removing the `rows` with missing values (recomended for rows where the target value is missing), or `columns` (if there are so many values missing that not having the column is beneficial). While this procedure is simple and quick, it comes with the loss of data, which may reduce the dataset's size and affect analysis;\n",
    "2. **Imputation:** Imputation involves filling in missing values with estimated or calculated values. Common methods include:\n",
    "    1. **Mean/Median/Mode Imputation:** Replace missing values with the mean (for numerical data), median (for skewed data), or mode (for categorical data);\n",
    "    2. **Forward Fill or Backward Fill:** Use previous or next values to fill missing data (common in time series);\n",
    "    3. **Interpolation:** Estimate missing values using interpolation methods (e.g., linear, polynomial);\n",
    "    4. **K-Nearest Neighbors (KNN) Imputation:** Use the values of the nearest neighbors to impute missing data;\n",
    "   \n",
    "Below is an example of missing data detection and handling on an example-dataset:"
   ]
  },
  {
   "cell_type": "code",
   "execution_count": 11,
   "metadata": {},
   "outputs": [
    {
     "name": "stdout",
     "output_type": "stream",
     "text": [
      "survived         0\n",
      "pclass           0\n",
      "sex              0\n",
      "age            177\n",
      "sibsp            0\n",
      "parch            0\n",
      "fare             0\n",
      "embarked         2\n",
      "class            0\n",
      "who              0\n",
      "adult_male       0\n",
      "deck           688\n",
      "embark_town      2\n",
      "alive            0\n",
      "alone            0\n",
      "dtype: int64\n",
      "survived       0\n",
      "pclass         0\n",
      "sex            0\n",
      "age            0\n",
      "sibsp          0\n",
      "parch          0\n",
      "fare           0\n",
      "embarked       0\n",
      "class          0\n",
      "who            0\n",
      "adult_male     0\n",
      "embark_town    2\n",
      "alive          0\n",
      "alone          0\n",
      "Has_deck       0\n",
      "dtype: int64\n"
     ]
    },
    {
     "name": "stderr",
     "output_type": "stream",
     "text": [
      "C:\\Users\\afons\\AppData\\Local\\Temp\\ipykernel_17292\\2663770147.py:6: FutureWarning: A value is trying to be set on a copy of a DataFrame or Series through chained assignment using an inplace method.\n",
      "The behavior will change in pandas 3.0. This inplace method will never work because the intermediate object on which we are setting values always behaves as a copy.\n",
      "\n",
      "For example, when doing 'df[col].method(value, inplace=True)', try using 'df.method({col: value}, inplace=True)' or df[col] = df[col].method(value) instead, to perform the operation inplace on the original object.\n",
      "\n",
      "\n",
      "  df_titanic['age'].fillna(df_titanic['age'].median(), inplace=True)\n",
      "C:\\Users\\afons\\AppData\\Local\\Temp\\ipykernel_17292\\2663770147.py:9: FutureWarning: A value is trying to be set on a copy of a DataFrame or Series through chained assignment using an inplace method.\n",
      "The behavior will change in pandas 3.0. This inplace method will never work because the intermediate object on which we are setting values always behaves as a copy.\n",
      "\n",
      "For example, when doing 'df[col].method(value, inplace=True)', try using 'df.method({col: value}, inplace=True)' or df[col] = df[col].method(value) instead, to perform the operation inplace on the original object.\n",
      "\n",
      "\n",
      "  df_titanic['embarked'].fillna(df_titanic['embarked'].mode()[0], inplace=True)\n"
     ]
    },
    {
     "data": {
      "text/plain": [
       "<Axes: >"
      ]
     },
     "execution_count": 11,
     "metadata": {},
     "output_type": "execute_result"
    },
    {
     "data": {
      "image/png": "[encoded data removed]",
      "text/plain": [
       "<Figure size 640x480 with 1 Axes>"
      ]
     },
     "metadata": {},
     "output_type": "display_data"
    }
   ],
   "source": [
    "# Check for missing values\n",
    "print(df_titanic.isnull().sum())\n",
    "sns.heatmap(df_titanic.isnull(), cbar=False)\n",
    "\n",
    "# Handle missing 'Age' values (impute with median)\n",
    "df_titanic['age'].fillna(df_titanic['age'].median(), inplace=True)\n",
    "\n",
    "# Handle missing 'Embarked' values (impute with mode)\n",
    "df_titanic['embarked'].fillna(df_titanic['embarked'].mode()[0], inplace=True)\n",
    "\n",
    "# Handle 'Cabin' column (create a new feature and drop the original)\n",
    "df_titanic['Has_deck'] = df_titanic['deck'].notnull().astype(int)\n",
    "df_titanic.drop('deck', axis=1, inplace=True)\n",
    "\n",
    "# Verify that missing values are handled\n",
    "print(df_titanic.isnull().sum())\n",
    "sns.heatmap(df_titanic.isnull(), cbar=False)\n"
   ]
  },
  {
   "cell_type": "markdown",
   "metadata": {},
   "source": [
    "## 2. Outlier detection\n",
    "\n",
    "Outliers can skew statistical analyses and models. Here are some common techniques to handle them:\n",
    "- **Z-score method**: Removing values beyond 3 standard deviations.\n",
    "- **Interquartile Range (IQR)**: Identifying extreme values.\n",
    "- **Winsorization**: Capping extreme values."
   ]
  },
  {
   "cell_type": "code",
   "execution_count": 8,
   "metadata": {},
   "outputs": [
    {
     "name": "stdout",
     "output_type": "stream",
     "text": [
      "Number of Outliers in Price, using Z-Score: 1206\n",
      "Number of Outliers in Price, using IQR: 3540\n"
     ]
    }
   ],
   "source": [
    "from scipy.stats import zscore\n",
    "\n",
    "Z = zscore(df_diamonds[\"price\"])\n",
    "outliers = df_diamonds[(Z < -3) | (Z > 3)]\n",
    "print(f\"Number of Outliers in Price, using Z-Score: {outliers.shape[0]}\")\n",
    "\n",
    "# Detecting outliers using IQR\n",
    "Q1 = df_diamonds['price'].quantile(0.25)\n",
    "Q3 = df_diamonds['price'].quantile(0.75)\n",
    "IQR = Q3 - Q1\n",
    "outliers = df_diamonds[(df_diamonds['price'] < (Q1 - 1.5 * IQR)) | (df_diamonds['price'] > (Q3 + 1.5 * IQR))]\n",
    "print(f\"Number of Outliers in Price, using IQR: {outliers.shape[0]}\")"
   ]
  },
  {
   "cell_type": "markdown",
   "metadata": {},
   "source": [
    "## 3. Encoding categorical values\n",
    "\n",
    "Machine learning models require numerical inputs. As such, categorical data needs to be converted to numerical representations. This process is called encoding. Some of the encoding methods include:\n",
    "\n",
    "- **Label Encoding**: Assigning numerical values to categories.\n",
    "- **One-Hot Encoding**: Creating binary columns for each category.\n",
    "- **Target Encoding**: Replacing categories with mean target value."
   ]
  },
  {
   "cell_type": "code",
   "execution_count": 4,
   "metadata": {},
   "outputs": [
    {
     "name": "stdout",
     "output_type": "stream",
     "text": [
      "      sex  sex_encoded\n",
      "0    male            1\n",
      "1  female            0\n",
      "2  female            0\n",
      "3  female            0\n",
      "4    male            1\n",
      "   survived  pclass     sex   age  sibsp  parch     fare embarked  class  \\\n",
      "0         0       3    male  22.0      1      0   7.2500        S  Third   \n",
      "1         1       1  female  38.0      1      0  71.2833        C  First   \n",
      "2         1       3  female  26.0      0      0   7.9250        S  Third   \n",
      "3         1       1  female  35.0      1      0  53.1000        S  First   \n",
      "4         0       3    male  35.0      0      0   8.0500        S  Third   \n",
      "\n",
      "     who  adult_male deck alive  alone  sex_encoded  embark_town_Queenstown  \\\n",
      "0    man        True  NaN    no  False            1                   False   \n",
      "1  woman       False    C   yes  False            0                   False   \n",
      "2  woman       False  NaN   yes   True            0                   False   \n",
      "3  woman       False    C   yes  False            0                   False   \n",
      "4    man        True  NaN    no   True            1                   False   \n",
      "\n",
      "   embark_town_Southampton  \n",
      "0                     True  \n",
      "1                    False  \n",
      "2                     True  \n",
      "3                     True  \n",
      "4                     True  \n"
     ]
    }
   ],
   "source": [
    "# Label Encoding example\n",
    "le = LabelEncoder()\n",
    "df_titanic['sex_encoded'] = le.fit_transform(df_titanic['sex'])\n",
    "print(df_titanic[['sex', 'sex_encoded']].head())\n",
    "\n",
    "# One-Hot Encoding example\n",
    "df_titanic_encoded = pd.get_dummies(df_titanic, columns=['embark_town'], drop_first=True)\n",
    "print(df_titanic_encoded.head())"
   ]
  },
  {
   "cell_type": "markdown",
   "metadata": {},
   "source": [
    "## 4. Scaling and Normalizing numerical values\n",
    "\n",
    "Scaling ensures numerical features have comparable ranges. Models can be more susceptible to change in its learning phase if numerical features have a wide range. There are some ways to ensure this process, such as:\n",
    "\n",
    "- **Standard Scaling (Z-score Normalization)**: Centering at 0, scaling by standard deviation.\n",
    "- **Min-Max Scaling**: Transforming values to range [0,1].\n",
    "- **Robust Scaling**: Scaling using median and IQR, useful for outliers."
   ]
  },
  {
   "cell_type": "code",
   "execution_count": 5,
   "metadata": {},
   "outputs": [
    {
     "name": "stdout",
     "output_type": "stream",
     "text": [
      "   price  price_scaled\n",
      "0    326     -0.904095\n",
      "1    326     -0.904095\n",
      "2    327     -0.903844\n",
      "3    334     -0.902090\n",
      "4    335     -0.901839\n"
     ]
    }
   ],
   "source": [
    "# Standard Scaling example\n",
    "scaler = StandardScaler()\n",
    "df_diamonds['price_scaled'] = scaler.fit_transform(df_diamonds[['price']])\n",
    "print(df_diamonds[['price', 'price_scaled']].head())"
   ]
  },
  {
   "cell_type": "markdown",
   "metadata": {},
   "source": [
    "## 5. Feature transformations\n",
    "\n",
    "Feature transformations can improve model performance by making distributions more normalized.\n",
    "- **Log Transformation**: Reducing right skewness.\n",
    "- **Square Root Transformation**: Reducing impact of large values.\n",
    "- **Polynomial Features**: Capturing non-linear relationships."
   ]
  },
  {
   "cell_type": "code",
   "execution_count": 6,
   "metadata": {},
   "outputs": [
    {
     "data": {
      "image/png": "[encoded data removed]",
      "text/plain": [
       "<Figure size 640x480 with 1 Axes>"
      ]
     },
     "metadata": {},
     "output_type": "display_data"
    }
   ],
   "source": [
    "# Log Transformation Example\n",
    "df_diamonds['log_price'] = np.log1p(df_diamonds['price'])\n",
    "sns.histplot(df_diamonds['log_price'], bins=30, kde=True)\n",
    "plt.title(\"Log Transformed Price Distribution\")\n",
    "plt.show()\n"
   ]
  },
  {
   "cell_type": "markdown",
   "metadata": {},
   "source": [
    "## 6. Extra Resources\n",
    "\n",
    "For further context and information:\n",
    "\n",
    "- [Encord Article](https://encord.com/blog/data-cleaning-data-preprocessing/)\n",
    "- [Scikit-learn: Preprocessing Data](https://scikit-learn.org/stable/modules/preprocessing.html)"
   ]
  }
 ],
 "metadata": {
  "kernelspec": {
   "display_name": "eda_env",
   "language": "python",
   "name": "python3"
  },
  "language_info": {
   "codemirror_mode": {
    "name": "ipython",
    "version": 3
   },
   "file_extension": ".py",
   "mimetype": "text/x-python",
   "name": "python",
   "nbconvert_exporter": "python",
   "pygments_lexer": "ipython3",
   "version": "3.11.11"
  }
 },
 "nbformat": 4,
 "nbformat_minor": 2
}
