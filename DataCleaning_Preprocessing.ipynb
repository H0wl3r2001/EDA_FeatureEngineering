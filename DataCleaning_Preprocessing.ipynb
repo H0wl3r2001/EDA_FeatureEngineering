{
 "cells": [
  {
   "cell_type": "markdown",
   "metadata": {},
   "source": [
    "# Data Cleaning and Preprocessing\n",
    "\n",
    "Data cleaning and preprocessing are essential steps before applying machine learning models.\n",
    "This process ensures that data is structured, error-free, and transformed into a format\n",
    "suitable for analysis.\n",
    "\n",
    "This notebook will cover:\n",
    "- Handling missing values\n",
    "- Detecting and treating outliers\n",
    "- Encoding categorical variables\n",
    "- Scaling and normalising numerical features\n",
    "- Feature transformations\n",
    "\n",
    "We will use datasets previously explored in the EDA notebooks to maintain consistency."
   ]
  }
 ],
 "metadata": {
  "language_info": {
   "name": "python"
  }
 },
 "nbformat": 4,
 "nbformat_minor": 2
}
