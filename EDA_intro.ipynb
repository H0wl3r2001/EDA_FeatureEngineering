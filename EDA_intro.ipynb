{
 "cells": [
  {
   "cell_type": "markdown",
   "metadata": {},
   "source": [
    "# Introduction to EDA\n",
    "\n",
    "Exploratory Data Analysis (EDA) is the first and most essential step in any data science project. \n",
    "It involves summarizing the main characteristics of a dataset using **statistical summaries and visualizations**.\n",
    "EDA helps to:\n",
    "- Understand data structure\n",
    "- Detect outliers and anomalies\n",
    "- Identify patterns and correlations\n",
    "- Guide feature selection and preprocessing steps\n",
    "\n",
    "This notebook provides an in-depth introduction to EDA techniques with **real-world examples**.\n",
    "\n",
    "## Index\n",
    "\n",
    "\n",
    "\n",
    "**Libraries used:**"
   ]
  },
  {
   "cell_type": "code",
   "execution_count": 1,
   "metadata": {},
   "outputs": [],
   "source": [
    "import numpy as np\n",
    "import pandas as pd\n",
    "import matplotlib.pyplot as plt\n",
    "import seaborn as sns\n",
    "import missingno as msno\n",
    "import plotly.express as px"
   ]
  }
 ],
 "metadata": {
  "kernelspec": {
   "display_name": "eda_env",
   "language": "python",
   "name": "python3"
  },
  "language_info": {
   "codemirror_mode": {
    "name": "ipython",
    "version": 3
   },
   "file_extension": ".py",
   "mimetype": "text/x-python",
   "name": "python",
   "nbconvert_exporter": "python",
   "pygments_lexer": "ipython3",
   "version": "3.11.11"
  }
 },
 "nbformat": 4,
 "nbformat_minor": 2
}
